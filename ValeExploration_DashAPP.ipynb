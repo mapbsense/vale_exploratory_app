{
  "nbformat": 4,
  "nbformat_minor": 0,
  "metadata": {
    "colab": {
      "name": "ValeExploration - DashAPP",
      "provenance": [],
      "collapsed_sections": [],
      "authorship_tag": "ABX9TyPxawm+/SVSHRPgtP3ZUxad",
      "include_colab_link": true
    },
    "kernelspec": {
      "name": "python3",
      "display_name": "Python 3"
    }
  },
  "cells": [
    {
      "cell_type": "markdown",
      "metadata": {
        "id": "view-in-github",
        "colab_type": "text"
      },
      "source": [
        "<a href=\"https://colab.research.google.com/github/ralfcam/mapb-vale/blob/main/ValeExploration_DashAPP.ipynb\" target=\"_parent\"><img src=\"https://colab.research.google.com/assets/colab-badge.svg\" alt=\"Open In Colab\"/></a>"
      ]
    },
    {
      "cell_type": "markdown",
      "metadata": {
        "id": "D6dl8C5sJK5s"
      },
      "source": [
        "`Powered By:`  \r\n",
        "[![image.png](data:image/png;base64,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)](http://mapbsense.com/)\r\n"
      ]
    },
    {
      "cell_type": "code",
      "metadata": {
        "id": "8JgSOud49AKp"
      },
      "source": [
        "%%capture\r\n",
        "!git clone https://gitlab.com/Ralfcam/mabp-valle.git"
      ],
      "execution_count": null,
      "outputs": []
    },
    {
      "cell_type": "code",
      "metadata": {
        "id": "Rhy8FnUg5yXT"
      },
      "source": [
        "%%capture\r\n",
        "!pip install --upgrade pandas_profiling\r\n",
        "!pip install jupyter-dash\r\n",
        "!pip install dash_bootstrap_components\r\n",
        "!pip install pip install minisom"
      ],
      "execution_count": null,
      "outputs": []
    },
    {
      "cell_type": "markdown",
      "metadata": {
        "id": "MNP4OqwOfPl9"
      },
      "source": [
        "### [Dealing With Files](https://neptune.ai/blog/google-colab-dealing-with-files)"
      ]
    },
    {
      "cell_type": "code",
      "metadata": {
        "id": "-BqlJYimUVzF"
      },
      "source": [
        "# %cd /content/mabp-valle\r\n",
        "# %mkdir raw_datasets\r\n",
        "# %cd raw_datasets/\r\n",
        "# from google.colab import files\r\n",
        "# uploaded = files.upload()"
      ],
      "execution_count": null,
      "outputs": []
    },
    {
      "cell_type": "code",
      "metadata": {
        "colab": {
          "base_uri": "https://localhost:8080/"
        },
        "id": "8b0TvqIqVEI6",
        "outputId": "9f1c9a21-fd98-4404-e788-4e0480a5f786"
      },
      "source": [
        "from google.colab import drive\r\n",
        "drive.mount('/content/drive')\r\n",
        "\r\n",
        "!cp -r '/content/drive/MyDrive/raw_datasets/' '/content/mabp-valle/'"
      ],
      "execution_count": null,
      "outputs": [
        {
          "output_type": "stream",
          "text": [
            "Drive already mounted at /content/drive; to attempt to forcibly remount, call drive.mount(\"/content/drive\", force_remount=True).\n"
          ],
          "name": "stdout"
        }
      ]
    },
    {
      "cell_type": "markdown",
      "metadata": {
        "id": "CjdyFaRDH118"
      },
      "source": [
        "### Start Vale-Dash"
      ]
    },
    {
      "cell_type": "code",
      "metadata": {
        "colab": {
          "base_uri": "https://localhost:8080/"
        },
        "id": "isuVxBQNfQtx",
        "outputId": "1735d6b5-0fce-49a6-a36a-ec0d78202c87"
      },
      "source": [
        "%cd /content/mabp-valle\r\n",
        "%mkdir datasets\r\n",
        "%mkdir predictions"
      ],
      "execution_count": null,
      "outputs": [
        {
          "output_type": "stream",
          "text": [
            "/content/mabp-valle\n",
            "mkdir: cannot create directory ‘datasets’: File exists\n",
            "mkdir: cannot create directory ‘predictions’: File exists\n"
          ],
          "name": "stdout"
        }
      ]
    },
    {
      "cell_type": "code",
      "metadata": {
        "id": "7ziy3OFh6dl_",
        "colab": {
          "base_uri": "https://localhost:8080/",
          "height": 85
        },
        "outputId": "1535d8c9-f95c-440d-ab2b-5edef7162d9e"
      },
      "source": [
        "from vale_app import app\r\n",
        "app.run_server(debug=False)"
      ],
      "execution_count": null,
      "outputs": [
        {
          "output_type": "stream",
          "text": [
            " * Running on http://127.0.0.1:8050/ (Press CTRL+C to quit)\n",
            "127.0.0.1 - - [29/Dec/2020 12:44:59] \"\u001b[37mGET /_alive_89e37781-5b23-4f6c-9a08-f373a1b0a00c HTTP/1.1\u001b[0m\" 200 -\n"
          ],
          "name": "stderr"
        },
        {
          "output_type": "stream",
          "text": [
            "Dash app running on:\n"
          ],
          "name": "stdout"
        },
        {
          "output_type": "display_data",
          "data": {
            "application/javascript": [
              "(async (port, path, text, element) => {\n",
              "    if (!google.colab.kernel.accessAllowed) {\n",
              "      return;\n",
              "    }\n",
              "    element.appendChild(document.createTextNode(''));\n",
              "    const url = await google.colab.kernel.proxyPort(port);\n",
              "    const anchor = document.createElement('a');\n",
              "    anchor.href = url + path;\n",
              "    anchor.target = '_blank';\n",
              "    anchor.setAttribute('data-href', url + path);\n",
              "    anchor.textContent = text;\n",
              "    element.appendChild(anchor);\n",
              "  })(8050, \"/\", \"http://127.0.0.1:8050/\", window.element)"
            ],
            "text/plain": [
              "<IPython.core.display.Javascript object>"
            ]
          },
          "metadata": {
            "tags": []
          }
        }
      ]
    }
  ]
}